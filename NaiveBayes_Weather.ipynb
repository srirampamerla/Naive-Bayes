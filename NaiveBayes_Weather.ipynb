{
 "cells": [
  {
   "cell_type": "markdown",
   "metadata": {},
   "source": [
    "# Naive Bayes classifiers on Weather dataset"
   ]
  },
  {
   "cell_type": "markdown",
   "metadata": {},
   "source": [
    "Naive Bayes classification is a probabilistic approach for classification. It is based on Bayes Theorem. Naive Bayes classification uses any of the probability distributions, Gaussian distribution, Multinomial Distribution, Bernoulli distribution.\n"
   ]
  },
  {
   "cell_type": "markdown",
   "metadata": {},
   "source": [
    "## 1. Import the libraries"
   ]
  },
  {
   "cell_type": "code",
   "execution_count": 1,
   "metadata": {},
   "outputs": [],
   "source": [
    "import numpy as np\n",
    "import pandas as pd\n",
    "import matplotlib.pyplot as plt"
   ]
  },
  {
   "cell_type": "markdown",
   "metadata": {},
   "source": [
    "## 2. Prepare the Dataset\n",
    "\n",
    "The dataset is based on the following.\n",
    "![title](images/weather-dataset.JPG)"
   ]
  },
  {
   "cell_type": "code",
   "execution_count": 2,
   "metadata": {},
   "outputs": [],
   "source": [
    "# Outlook = ['sunny' ,'sunny', 'overcast', 'rainy', 'rainy', 'rainy', 'overcast',\n",
    "#            'sunny', 'sunny', 'rainy', 'sunny', 'overcast', 'overcast', 'rainy']\n",
    "\n",
    "# Temp = ['hot', 'hot', 'hot', 'mild', 'cool', 'cool', 'cool', 'mild', 'cool',\n",
    "#        'mild','mild','mild','hot','mild']\n",
    "\n",
    "# Humidity = ['high', 'high', 'high', 'high', 'normal', 'normal', 'normal', 'high',\n",
    "#            'normal','normal','normal' , 'high', 'normal', 'high']\n",
    "\n",
    "# Windy = ['false' ,'true' ,'false' ,'false' ,'false' ,'true' ,'true' ,'false' ,\n",
    "#          'false' ,'false' ,'true' ,'true' ,'false' ,'true' ]\n",
    "         \n",
    "# Play = ['no','no','yes','yes','yes','no','yes','no',\n",
    "#         'yes','yes','yes','yes','yes','no']}\n",
    "# yoy do it this way\n",
    "# weatherdata = pd.DataFrame(\n",
    "#     {'Outlook': Outlook,\n",
    "#      'Temp': Temp,\n",
    "#      'Humidity': Humidity,\n",
    "#      'Windy': Windy,\n",
    "#      'Play': Play\n",
    "#     })"
   ]
  },
  {
   "cell_type": "code",
   "execution_count": 3,
   "metadata": {},
   "outputs": [],
   "source": [
    "# Convert the above data into Python lists. The ordering in the above data is followed.\n",
    "data ={\n",
    "'Outlook' :['sunny' ,'sunny', 'overcast', 'rainy', 'rainy', 'rainy', 'overcast',\n",
    "           'sunny', 'sunny', 'rainy', 'sunny', 'overcast', 'overcast', 'rainy'],\n",
    "\n",
    "'Temp' : ['hot', 'hot', 'hot', 'mild', 'cool', 'cool', 'cool', 'mild', 'cool',\n",
    "       'mild','mild','mild','hot','mild'],\n",
    "\n",
    "'Humidity' : ['high', 'high', 'high', 'high', 'normal', 'normal', 'normal', 'high',\n",
    "           'normal','normal','normal' , 'high', 'normal', 'high'],\n",
    "\n",
    "'Windy' : ['false' ,'true' ,'false' ,'false' ,'false' ,'true' ,'true' ,'false' ,\n",
    "         'false' ,'false' ,'true' ,'true' ,'false' ,'true' ],\n",
    "         \n",
    "'Play' : ['no','no','yes','yes','yes','no','yes','no',\n",
    "        'yes','yes','yes','yes','yes','no']}\n"
   ]
  },
  {
   "cell_type": "code",
   "execution_count": 4,
   "metadata": {},
   "outputs": [
    {
     "data": {
      "text/html": [
       "<div>\n",
       "<style scoped>\n",
       "    .dataframe tbody tr th:only-of-type {\n",
       "        vertical-align: middle;\n",
       "    }\n",
       "\n",
       "    .dataframe tbody tr th {\n",
       "        vertical-align: top;\n",
       "    }\n",
       "\n",
       "    .dataframe thead th {\n",
       "        text-align: right;\n",
       "    }\n",
       "</style>\n",
       "<table border=\"1\" class=\"dataframe\">\n",
       "  <thead>\n",
       "    <tr style=\"text-align: right;\">\n",
       "      <th></th>\n",
       "      <th>Outlook</th>\n",
       "      <th>Temp</th>\n",
       "      <th>Humidity</th>\n",
       "      <th>Windy</th>\n",
       "      <th>Play</th>\n",
       "    </tr>\n",
       "  </thead>\n",
       "  <tbody>\n",
       "    <tr>\n",
       "      <th>0</th>\n",
       "      <td>sunny</td>\n",
       "      <td>hot</td>\n",
       "      <td>high</td>\n",
       "      <td>false</td>\n",
       "      <td>no</td>\n",
       "    </tr>\n",
       "    <tr>\n",
       "      <th>1</th>\n",
       "      <td>sunny</td>\n",
       "      <td>hot</td>\n",
       "      <td>high</td>\n",
       "      <td>true</td>\n",
       "      <td>no</td>\n",
       "    </tr>\n",
       "    <tr>\n",
       "      <th>2</th>\n",
       "      <td>overcast</td>\n",
       "      <td>hot</td>\n",
       "      <td>high</td>\n",
       "      <td>false</td>\n",
       "      <td>yes</td>\n",
       "    </tr>\n",
       "    <tr>\n",
       "      <th>3</th>\n",
       "      <td>rainy</td>\n",
       "      <td>mild</td>\n",
       "      <td>high</td>\n",
       "      <td>false</td>\n",
       "      <td>yes</td>\n",
       "    </tr>\n",
       "    <tr>\n",
       "      <th>4</th>\n",
       "      <td>rainy</td>\n",
       "      <td>cool</td>\n",
       "      <td>normal</td>\n",
       "      <td>false</td>\n",
       "      <td>yes</td>\n",
       "    </tr>\n",
       "  </tbody>\n",
       "</table>\n",
       "</div>"
      ],
      "text/plain": [
       "    Outlook  Temp Humidity  Windy Play\n",
       "0     sunny   hot     high  false   no\n",
       "1     sunny   hot     high   true   no\n",
       "2  overcast   hot     high  false  yes\n",
       "3     rainy  mild     high  false  yes\n",
       "4     rainy  cool   normal  false  yes"
      ]
     },
     "execution_count": 4,
     "metadata": {},
     "output_type": "execute_result"
    }
   ],
   "source": [
    "# create a dataframe from the above lists.\n",
    "\n",
    "weatherdata = pd.DataFrame(data)\n",
    "weatherdata.head()\n",
    "# ?print(weatherdata.head())"
   ]
  },
  {
   "cell_type": "code",
   "execution_count": 17,
   "metadata": {},
   "outputs": [
    {
     "name": "stdout",
     "output_type": "stream",
     "text": [
      "Unique values and counts for Outlook:\n",
      "sunny       5\n",
      "rainy       5\n",
      "overcast    4\n",
      "Name: Outlook, dtype: int64\n",
      "\n",
      "Unique values and counts for Temp:\n",
      "mild    6\n",
      "hot     4\n",
      "cool    4\n",
      "Name: Temp, dtype: int64\n",
      "\n",
      "Unique values and counts for Humidity:\n",
      "high      7\n",
      "normal    7\n",
      "Name: Humidity, dtype: int64\n",
      "\n",
      "Unique values and counts for Windy:\n",
      "false    8\n",
      "true     6\n",
      "Name: Windy, dtype: int64\n",
      "\n",
      "Unique values and counts for Play:\n",
      "yes    9\n",
      "no     5\n",
      "Name: Play, dtype: int64\n",
      "\n"
     ]
    }
   ],
   "source": [
    "for column in weatherdata.columns:\n",
    "    unique_values_counts = weatherdata[column].value_counts()\n",
    "    dd=weatherdata.value_counts()\n",
    "    print(f\"Unique values and counts for {column}:\")\n",
    "    print(unique_values_counts)\n",
    "#     print(\"DD\",dd)\n",
    "    print()"
   ]
  },
  {
   "cell_type": "code",
   "execution_count": 5,
   "metadata": {},
   "outputs": [
    {
     "name": "stdout",
     "output_type": "stream",
     "text": [
      "Enter the column name to filter (e.g., Outlook, Temp, Humidity, Windy): Outlook\n",
      "\n",
      "Rows where Outlook is 'sunny':\n",
      "   Outlook  Temp Humidity  Windy Play\n",
      "0    sunny   hot     high  false   no\n",
      "1    sunny   hot     high   true   no\n",
      "7    sunny  mild     high  false   no\n",
      "8    sunny  cool   normal  false  yes\n",
      "10   sunny  mild   normal   true  yes\n",
      "\n",
      "Rows where Outlook is 'overcast':\n",
      "     Outlook  Temp Humidity  Windy Play\n",
      "2   overcast   hot     high  false  yes\n",
      "6   overcast  cool   normal   true  yes\n",
      "11  overcast  mild     high   true  yes\n",
      "12  overcast   hot   normal  false  yes\n",
      "\n",
      "Rows where Outlook is 'rainy':\n",
      "   Outlook  Temp Humidity  Windy Play\n",
      "3    rainy  mild     high  false  yes\n",
      "4    rainy  cool   normal  false  yes\n",
      "5    rainy  cool   normal   true   no\n",
      "9    rainy  mild   normal  false  yes\n",
      "13   rainy  mild     high   true   no\n"
     ]
    }
   ],
   "source": [
    "columns = ['Outlook', 'Temp', 'Humidity', 'Windy']\n",
    "\n",
    "column_input = input(\"Enter the column name to filter (e.g., Outlook, Temp, Humidity, Windy): \")\n",
    "\n",
    "\n",
    "if column_input in columns:\n",
    "    unique_values = weatherdata[column_input].unique()\n",
    "    for value in unique_values:\n",
    "        filtered_data = weatherdata[weatherdata[column_input] == value]\n",
    "        print(f\"\\nRows where {column_input} is '{value}':\")\n",
    "        print(filtered_data)\n",
    "else:\n",
    "    print(\"Invalid column name. Please enter one of the following column names: Outlook, Temp, Humidity, Windy\")"
   ]
  },
  {
   "cell_type": "code",
   "execution_count": 48,
   "metadata": {},
   "outputs": [
    {
     "name": "stdout",
     "output_type": "stream",
     "text": [
      "\n",
      "Outlook Probabilities:\n",
      "Play      Prob(Yes)  Prob(No)  Total Probability\n",
      "Outlook                                         \n",
      "overcast   0.444444       0.0           0.444444\n",
      "rainy      0.333333       0.4           0.733333\n",
      "sunny      0.222222       0.6           0.822222\n",
      "\n",
      "Temp Probabilities:\n",
      "Play  Prob(Yes)  Prob(No)  Total Probability\n",
      "Temp                                        \n",
      "cool   0.333333       0.2           0.533333\n",
      "hot    0.222222       0.4           0.622222\n",
      "mild   0.444444       0.4           0.844444\n",
      "\n",
      "Humidity Probabilities:\n",
      "Play      Prob(Yes)  Prob(No)  Total Probability\n",
      "Humidity                                        \n",
      "high       0.333333       0.8           1.133333\n",
      "normal     0.666667       0.2           0.866667\n",
      "\n",
      "Windy Probabilities:\n",
      "Play   Prob(Yes)  Prob(No)  Total Probability\n",
      "Windy                                        \n",
      "false   0.666667       0.4           1.066667\n",
      "true    0.333333       0.6           0.933333\n"
     ]
    }
   ],
   "source": [
    "attributes = ['Outlook','Temp', 'Humidity', 'Windy']\n",
    "for attribute in attributes:\n",
    "#     print(f\"{attribute}:\")\n",
    "    probabilities = weatherdata.groupby([attribute, 'Play']).size().unstack().fillna(0)\n",
    "    probabilities['Total'] = probabilities['yes'] + probabilities['no']\n",
    "    probabilities['Prob(Yes)'] = probabilities['yes'] / probabilities['yes'].sum()\n",
    "    probabilities['Prob(No)'] = probabilities['no'] / probabilities['no'].sum()\n",
    "    probabilities['Total Probability'] = probabilities['Prob(Yes)'] + probabilities['Prob(No)']\n",
    "    probabilities = probabilities[['Prob(Yes)', 'Prob(No)', 'Total Probability']]\n",
    "    print(f\"\\n{attribute} Probabilities:\")\n",
    "    print(probabilities)"
   ]
  },
  {
   "cell_type": "code",
   "execution_count": 55,
   "metadata": {},
   "outputs": [
    {
     "name": "stdout",
     "output_type": "stream",
     "text": [
      "    Outlook  Temp  Humidity  Windy  Play\n",
      "0         2     1         0      0     0\n",
      "1         2     1         0      1     0\n",
      "2         0     1         0      0     1\n",
      "3         1     2         0      0     1\n",
      "4         1     0         1      0     1\n",
      "5         1     0         1      1     0\n",
      "6         0     0         1      1     1\n",
      "7         2     2         0      0     0\n",
      "8         2     0         1      0     1\n",
      "9         1     2         1      0     1\n",
      "10        2     2         1      1     1\n",
      "11        0     2         0      1     1\n",
      "12        0     1         1      0     1\n",
      "13        1     2         0      1     0\n"
     ]
    }
   ],
   "source": [
    "# Encode the list as 0,1,2,...\n",
    "\n",
    "from sklearn import preprocessing\n",
    "\n",
    "le = preprocessing.LabelEncoder()\n",
    "\n",
    "# # apply the label encoder for each list\n",
    "# Outlook = le.fit_transform(Outlook)      # 2,2,0,1,1\n",
    "# temp = le.fit_transform(Temp)            # 1,1,1,2,0\n",
    "# humidity = le.fit_transform(Humidity)    # 0,0,0,0,1\n",
    "# windy = le.fit_transform(Windy)          # 0,1,0,0,0\n",
    "# play = le.fit_transform(Play)            # 0,0,1,1,1\n",
    "\n",
    "\n",
    "# # create a dataframe from the encoded lists.\n",
    "# weatherFeatures = pd.DataFrame(\n",
    "#     {'Outlook': Outlook,\n",
    "#      'temp': temp,\n",
    "#      'humidity': humidity,\n",
    "#      'windy': windy,\n",
    "#     })\n",
    "# print(weatherFeatures)\n",
    "\n",
    "# print('Play = ', play)\n",
    "\n",
    "# Encode each column in the DataFrame\n",
    "weatherFeatures = {}\n",
    "for column in weatherdata.columns:\n",
    "    weatherFeatures[column] = le.fit_transform(weatherdata[column])\n",
    "\n",
    "# Convert the encoded data back to a DataFrame\n",
    "weatherFeatures = pd.DataFrame(encoded_data)\n",
    "\n",
    "print(weatherFeatures)"
   ]
  },
  {
   "cell_type": "code",
   "execution_count": 65,
   "metadata": {},
   "outputs": [],
   "source": [
    "Outlook = ['sunny' ,'sunny', 'overcast', 'rainy', 'rainy', 'rainy', 'overcast',\n",
    "           'sunny', 'sunny', 'rainy', 'sunny', 'overcast', 'overcast', 'rainy']\n",
    "\n",
    "Temp = ['hot', 'hot', 'hot', 'mild', 'cool', 'cool', 'cool', 'mild', 'cool',\n",
    "       'mild','mild','mild','hot','mild']\n",
    "\n",
    "Humidity = ['high', 'high', 'high', 'high', 'normal', 'normal', 'normal', 'high',\n",
    "           'normal','normal','normal' , 'high', 'normal', 'high']\n",
    "\n",
    "Windy = ['false' ,'true' ,'false' ,'false' ,'false' ,'true' ,'true' ,'false' ,\n",
    "         'false' ,'false' ,'true' ,'true' ,'false' ,'true' ]\n",
    "         \n",
    "Play = ['no','no','yes','yes','yes','no','yes','no',\n",
    "        'yes','yes','yes','yes','yes','no']\n",
    "\n",
    "weatherdata = pd.DataFrame(\n",
    "    {'Outlook': Outlook,\n",
    "     'Temp': Temp,\n",
    "     'Humidity': Humidity,\n",
    "     'Windy': Windy,\n",
    "     'Play': Play\n",
    "    })"
   ]
  },
  {
   "cell_type": "code",
   "execution_count": 66,
   "metadata": {},
   "outputs": [
    {
     "name": "stdout",
     "output_type": "stream",
     "text": [
      "    Outlook  temp  humidity  windy\n",
      "0         2     1         0      0\n",
      "1         2     1         0      1\n",
      "2         0     1         0      0\n",
      "3         1     2         0      0\n",
      "4         1     0         1      0\n",
      "5         1     0         1      1\n",
      "6         0     0         1      1\n",
      "7         2     2         0      0\n",
      "8         2     0         1      0\n",
      "9         1     2         1      0\n",
      "10        2     2         1      1\n",
      "11        0     2         0      1\n",
      "12        0     1         1      0\n",
      "13        1     2         0      1\n",
      "Play =  [0 0 1 1 1 0 1 0 1 1 1 1 1 0]\n"
     ]
    }
   ],
   "source": [
    "le = preprocessing.LabelEncoder()\n",
    "\n",
    "# apply the label encoder for each list\n",
    "Outlook = le.fit_transform(Outlook)      # 2,2,0,1,1\n",
    "temp = le.fit_transform(Temp)            # 1,1,1,2,0\n",
    "humidity = le.fit_transform(Humidity)    # 0,0,0,0,1\n",
    "windy = le.fit_transform(Windy)          # 0,1,0,0,0\n",
    "play = le.fit_transform(Play)            # 0,0,1,1,1\n",
    "\n",
    "\n",
    "# create a dataframe from the encoded lists.\n",
    "weatherFeatures = pd.DataFrame(\n",
    "    {'Outlook': Outlook,\n",
    "     'temp': temp,\n",
    "     'humidity': humidity,\n",
    "     'windy': windy,\n",
    "    })\n",
    "print(weatherFeatures)\n",
    "\n",
    "print('Play = ', play)\n",
    "\n",
    "# Encode each column in the DataFrame"
   ]
  },
  {
   "cell_type": "markdown",
   "metadata": {},
   "source": [
    "## Visualize the dataset"
   ]
  },
  {
   "cell_type": "code",
   "execution_count": 69,
   "metadata": {},
   "outputs": [],
   "source": [
    "data2d = weatherFeatures.loc[:,['Outlook','windy']]"
   ]
  },
  {
   "cell_type": "code",
   "execution_count": 73,
   "metadata": {},
   "outputs": [
    {
     "data": {
      "image/png": "[encoded data removed]",
      "text/plain": [
       "<Figure size 432x288 with 1 Axes>"
      ]
     },
     "metadata": {
      "needs_background": "light"
     },
     "output_type": "display_data"
    }
   ],
   "source": [
    "pos = data2d.loc[play == 1]\n",
    "neg = data2d.loc[play == 0]\n",
    "\n",
    "plt.scatter(pos.iloc[:, 0], pos.iloc[:, 1], label='Play')\n",
    "plt.scatter(neg.iloc[:, 0], neg.iloc[:, 1],  label='Not play')\n",
    "\n",
    "plt.xlabel('Outlook')\n",
    "plt.ylabel('Windy')\n",
    "plt.title('Weather data')\n",
    "plt.legend()\n",
    "plt.show()\n",
    "\n"
   ]
  },
  {
   "cell_type": "markdown",
   "metadata": {},
   "source": [
    "## 3. Build the classifier  \n",
    "## 4. Make predictions for new Data"
   ]
  },
  {
   "cell_type": "code",
   "execution_count": 78,
   "metadata": {},
   "outputs": [
    {
     "name": "stdout",
     "output_type": "stream",
     "text": [
      "Predicted Value for training data: [0 0 1 1 1 1 1 0 1 1 1 1 1 0]\n",
      "Predicted Value for new data: [1]\n"
     ]
    },
    {
     "name": "stderr",
     "output_type": "stream",
     "text": [
      "C:\\Users\\HP\\anaconda3\\lib\\site-packages\\sklearn\\base.py:450: UserWarning: X does not have valid feature names, but GaussianNB was fitted with feature names\n",
      "  warnings.warn(\n"
     ]
    }
   ],
   "source": [
    "from sklearn.naive_bayes import GaussianNB\n",
    "\n",
    "# create an object of the GaussianNB classifier\n",
    "gnb_classifier = GaussianNB()\n",
    "\n",
    "# train the classifier\n",
    "gnb_classifier.fit(weatherFeatures, play)\n",
    "\n",
    "\n",
    "# predict for training data\n",
    "predicted= gnb_classifier.predict(weatherFeatures)\n",
    "print(\"Predicted Value for training data:\", predicted)\n",
    "\n",
    "# predict for new data # 0:overcast, 2:mild, 1:normal, 1:true\n",
    "y= gnb_classifier.predict([[0,2,1,1]]) \n",
    "print(\"Predicted Value for new data:\", y)\n"
   ]
  },
  {
   "cell_type": "code",
   "execution_count": 79,
   "metadata": {},
   "outputs": [
    {
     "name": "stdout",
     "output_type": "stream",
     "text": [
      "Predicted Value for training data: [0 0 1 0 1 1 1 0 1 1 1 1 1 0]\n",
      "Predicted Value for new data: [1]\n"
     ]
    },
    {
     "name": "stderr",
     "output_type": "stream",
     "text": [
      "C:\\Users\\HP\\anaconda3\\lib\\site-packages\\sklearn\\base.py:450: UserWarning: X does not have valid feature names, but BernoulliNB was fitted with feature names\n",
      "  warnings.warn(\n"
     ]
    }
   ],
   "source": [
    "from sklearn.naive_bayes import BernoulliNB\n",
    "\n",
    "# create an object of the GaussianNB classifier\n",
    "bnb = BernoulliNB()\n",
    "\n",
    "# train the classifier\n",
    "bnb.fit(weatherFeatures, play)\n",
    "\n",
    "\n",
    "# predict for training data\n",
    "predicted= bnb.predict(weatherFeatures)\n",
    "print(\"Predicted Value for training data:\", predicted)\n",
    "\n",
    "\n",
    "# predict for new data # 0:overcast, 2:mild, 1:normal, 1:true\n",
    "y= bnb.predict([[0,2,1,1]])\n",
    "print(\"Predicted Value for new data:\", y)\n"
   ]
  },
  {
   "cell_type": "code",
   "execution_count": 80,
   "metadata": {},
   "outputs": [
    {
     "name": "stdout",
     "output_type": "stream",
     "text": [
      "Predicted Value for training data: [0 0 1 1 1 1 1 1 1 1 1 1 1 1]\n",
      "Predicted Value for new data: [1]\n"
     ]
    },
    {
     "name": "stderr",
     "output_type": "stream",
     "text": [
      "C:\\Users\\HP\\anaconda3\\lib\\site-packages\\sklearn\\base.py:450: UserWarning: X does not have valid feature names, but MultinomialNB was fitted with feature names\n",
      "  warnings.warn(\n"
     ]
    }
   ],
   "source": [
    "from sklearn.naive_bayes import MultinomialNB\n",
    "\n",
    "mnb = MultinomialNB()\n",
    "\n",
    "# train the classifier\n",
    "mnb.fit(weatherFeatures, play)\n",
    "\n",
    "\n",
    "# predict for training data\n",
    "predicted= mnb.predict(weatherFeatures)\n",
    "print(\"Predicted Value for training data:\", predicted)\n",
    "\n",
    "\n",
    "# predict for new data # 0:overcast, 2:mild, 1:normal, 1:true\n",
    "y= mnb.predict([[0,2,1,1]]) \n",
    "print(\"Predicted Value for new data:\", y)\n"
   ]
  },
  {
   "cell_type": "markdown",
   "metadata": {},
   "source": [
    "## 5. Performance Measures"
   ]
  },
  {
   "cell_type": "code",
   "execution_count": 81,
   "metadata": {},
   "outputs": [
    {
     "name": "stdout",
     "output_type": "stream",
     "text": [
      "GaussianNB =  92.85714285714286\n",
      "BernoulliNB =  85.71428571428571\n",
      "MultinomialNB =  78.57142857142857\n"
     ]
    }
   ],
   "source": [
    "# display the accuracy\n",
    "\n",
    "print('GaussianNB = ', gnb_classifier.score(weatherFeatures, play)*100 )\n",
    "\n",
    "print('BernoulliNB = ', bnb.score(weatherFeatures, play)*100 )\n",
    "\n",
    "print('MultinomialNB = ', mnb.score(weatherFeatures, play)*100 )"
   ]
  },
  {
   "cell_type": "markdown",
   "metadata": {},
   "source": [
    "## 6. Visualize the decision boundary"
   ]
  },
  {
   "cell_type": "code",
   "execution_count": 82,
   "metadata": {},
   "outputs": [
    {
     "name": "stderr",
     "output_type": "stream",
     "text": [
      "C:\\Users\\HP\\anaconda3\\lib\\site-packages\\sklearn\\base.py:450: UserWarning: X does not have valid feature names, but GaussianNB was fitted with feature names\n",
      "  warnings.warn(\n"
     ]
    },
    {
     "data": {
      "image/png": "[encoded data removed]",
      "text/plain": [
       "<Figure size 432x288 with 1 Axes>"
      ]
     },
     "metadata": {
      "needs_background": "light"
     },
     "output_type": "display_data"
    }
   ],
   "source": [
    "# Visualize  the classifier\n",
    "\n",
    "# get min of X\n",
    "x_min, x_max = data2d.iloc[:, 0].min() - .5, data2d.iloc[:, 0].max() + .5\n",
    "\n",
    "# create a meshgrid\n",
    "xx, yy  = np.meshgrid(np.linspace(x_min, x_max, num=100), np.linspace(x_min, x_max+1, num=100))\n",
    "\n",
    "gnb = GaussianNB()\n",
    "gnb.fit(data2d,play)\n",
    "\n",
    "# predict for the meshgrid\n",
    "z = gnb.predict( np.c_[xx.ravel(), yy.ravel()] )\n",
    "z = z.reshape(xx.shape)\n",
    "\n",
    "# plot the meshgrid\n",
    "plt.pcolormesh(xx, yy, z, cmap=plt.cm.Paired)\n",
    "\n",
    "# plot decision boundary\n",
    "plt.contour(xx, yy, z)\n",
    "\n",
    "# plot the dataset\n",
    "plt.scatter(pos.iloc[:, 0], pos.iloc[:, 1], label='Play')\n",
    "plt.scatter(neg.iloc[:, 0], neg.iloc[:, 1],  label='Not play')\n",
    "\n",
    "plt.xlabel('Outlook')\n",
    "plt.ylabel('Windy')\n",
    "plt.xticks(np.arange(-0.5, 2.6, step=0.5))\n",
    "plt.yticks(np.arange(-0.5, 2.6, step=0.5))\n",
    "plt.ylim(-0.5,2.5)\n",
    "plt.ylim(-0.5,1.5)\n",
    "plt.title('Weather data decision boundary')\n",
    "plt.legend()\n",
    "plt.show()"
   ]
  },
  {
   "cell_type": "code",
   "execution_count": null,
   "metadata": {},
   "outputs": [],
   "source": []
  }
 ],
 "metadata": {
  "kernelspec": {
   "display_name": "Python 3 (ipykernel)",
   "language": "python",
   "name": "python3"
  },
  "language_info": {
   "codemirror_mode": {
    "name": "ipython",
    "version": 3
   },
   "file_extension": ".py",
   "mimetype": "text/x-python",
   "name": "python",
   "nbconvert_exporter": "python",
   "pygments_lexer": "ipython3",
   "version": "3.9.12"
  }
 },
 "nbformat": 4,
 "nbformat_minor": 2
}
